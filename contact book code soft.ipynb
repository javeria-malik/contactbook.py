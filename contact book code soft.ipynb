{
 "cells": [
  {
   "cell_type": "code",
   "execution_count": 22,
   "id": "f5aa66ef",
   "metadata": {},
   "outputs": [],
   "source": [
    "import tkinter as tk"
   ]
  },
  {
   "cell_type": "code",
   "execution_count": 23,
   "id": "6d3c9f18",
   "metadata": {},
   "outputs": [],
   "source": [
    "from tkinter import messagebox"
   ]
  },
  {
   "cell_type": "code",
   "execution_count": 24,
   "id": "5033047b",
   "metadata": {},
   "outputs": [],
   "source": [
    "class Contact:\n",
    "    def __init__(self,name,address,email,age,phone):\n",
    "        self.name=name\n",
    "        self.phone=phone\n",
    "        self.email =email\n",
    "        self.age=age\n",
    "        self.address=address"
   ]
  },
  {
   "cell_type": "code",
   "execution_count": 25,
   "id": "23bc246e",
   "metadata": {},
   "outputs": [],
   "source": [
    "def add_contact():\n",
    "    name=name_entry.get()\n",
    "    address=address_entry.get()\n",
    "    phone=phone_entry.get()\n",
    "    email=email_entry.get()\n",
    "    age=age_entry.get()\n",
    "    if name and phone:\n",
    "        contact=Contact(name,address,email,age,phone)\n",
    "        contacts.append(contact)\n",
    "        clear_field()\n",
    "        update_contact_list()\n",
    "    else:\n",
    "        messagebox.showwarning(\"Warning\", \"Name and phone are required fields.\")\n"
   ]
  },
  {
   "cell_type": "code",
   "execution_count": 26,
   "id": "1cecb6e5",
   "metadata": {},
   "outputs": [],
   "source": [
    "def clear_fields():\n",
    "    name_entry.delete(0, tk.END)\n",
    "    phone_entry.delete(0, tk.END)\n",
    "    email_entry.delete(0, tk.END)\n",
    "    address_entry.delete(0, tk.END)"
   ]
  },
  {
   "cell_type": "code",
   "execution_count": 27,
   "id": "8413d1d7",
   "metadata": {},
   "outputs": [],
   "source": [
    "def update_contact_list():\n",
    "    contact_listbox.delete(0, tk.END)\n",
    "    for contact in contacts:\n",
    "        contact_listbox.insert(tk.END, contact.name + \" - \" + contact.phone)"
   ]
  },
  {
   "cell_type": "code",
   "execution_count": 28,
   "id": "2cf818d3",
   "metadata": {},
   "outputs": [],
   "source": [
    "def search_contact():\n",
    "    query = search_entry.get().lower()\n",
    "    search_results = [contact for contact in contacts if query in contact.name.lower() or query in contact.phone]\n",
    "    contact_listbox.delete(0, tk.END)\n",
    "    for result in search_results:\n",
    "        contact_listbox.insert(tk.END, result.name + \" - \" + result.phone)"
   ]
  },
  {
   "cell_type": "code",
   "execution_count": 29,
   "id": "89c4cdba",
   "metadata": {},
   "outputs": [],
   "source": [
    "def delete_contact():\n",
    "    selected_index = contact_listbox.curselection()\n",
    "    if selected_index:\n",
    "        index = selected_index[0]\n",
    "        contacts.pop(index)\n",
    "        update_contact_list()"
   ]
  },
  {
   "cell_type": "code",
   "execution_count": 30,
   "id": "5af047a2",
   "metadata": {},
   "outputs": [],
   "source": [
    "# Create the main window\n",
    "root = tk.Tk()\n",
    "root.title(\"Contact Management System\")\n",
    "root.configure(bg=\"darkblue\")\n",
    "root.tk_setPalette(background=\"grey\", foreground=\"white\")\n"
   ]
  },
  {
   "cell_type": "code",
   "execution_count": 31,
   "id": "4be93e7f",
   "metadata": {},
   "outputs": [],
   "source": [
    "# Create input fields\n",
    "name_label = tk.Label(root, text=\"Name:\")\n",
    "name_label.pack()\n",
    "name_entry = tk.Entry(root)\n",
    "name_entry.pack()\n"
   ]
  },
  {
   "cell_type": "code",
   "execution_count": 32,
   "id": "bdcd48b7",
   "metadata": {},
   "outputs": [],
   "source": [
    "phone_label = tk.Label(root, text=\"Phone:\")\n",
    "phone_label.pack()\n",
    "phone_entry = tk.Entry(root)\n",
    "phone_entry.pack()"
   ]
  },
  {
   "cell_type": "code",
   "execution_count": 33,
   "id": "32679ffe",
   "metadata": {},
   "outputs": [],
   "source": [
    "email_label = tk.Label(root, text=\"Email:\")\n",
    "email_label.pack()\n",
    "email_entry = tk.Entry(root)\n",
    "email_entry.pack()\n"
   ]
  },
  {
   "cell_type": "code",
   "execution_count": 34,
   "id": "b4ddbbe6",
   "metadata": {},
   "outputs": [],
   "source": [
    "address_label = tk.Label(root, text=\"Address:\")\n",
    "address_label.pack()\n",
    "address_entry = tk.Entry(root)\n",
    "address_entry.pack()"
   ]
  },
  {
   "cell_type": "code",
   "execution_count": 35,
   "id": "252dcf35",
   "metadata": {},
   "outputs": [],
   "source": [
    "# Buttons\n",
    "add_button = tk.Button(root, text=\"Add Contact\", command=add_contact)\n",
    "add_button.pack()\n",
    "\n",
    "search_label = tk.Label(root, text=\"Search:\")\n",
    "search_label.pack()\n",
    "search_entry = tk.Entry(root)\n",
    "search_entry.pack()\n",
    "search_button = tk.Button(root, text=\"Search\", command=search_contact)\n",
    "search_button.pack()\n",
    "\n",
    "delete_button = tk.Button(root, text=\"Delete Contact\", command=delete_contact)\n",
    "delete_button.pack()\n"
   ]
  },
  {
   "cell_type": "code",
   "execution_count": 36,
   "id": "5c2de054",
   "metadata": {},
   "outputs": [],
   "source": [
    "# Contact list\n",
    "contact_listbox = tk.Listbox(root, selectmode=tk.SINGLE)\n",
    "contact_listbox.pack()\n"
   ]
  },
  {
   "cell_type": "code",
   "execution_count": 37,
   "id": "5b576077",
   "metadata": {},
   "outputs": [],
   "source": [
    "contacts = []"
   ]
  },
  {
   "cell_type": "code",
   "execution_count": 38,
   "id": "b3c224db",
   "metadata": {},
   "outputs": [],
   "source": [
    "root.mainloop()"
   ]
  },
  {
   "cell_type": "code",
   "execution_count": null,
   "id": "9793f5f4",
   "metadata": {},
   "outputs": [],
   "source": []
  }
 ],
 "metadata": {
  "kernelspec": {
   "display_name": "Python 3 (ipykernel)",
   "language": "python",
   "name": "python3"
  },
  "language_info": {
   "codemirror_mode": {
    "name": "ipython",
    "version": 3
   },
   "file_extension": ".py",
   "mimetype": "text/x-python",
   "name": "python",
   "nbconvert_exporter": "python",
   "pygments_lexer": "ipython3",
   "version": "3.11.4"
  }
 },
 "nbformat": 4,
 "nbformat_minor": 5
}
